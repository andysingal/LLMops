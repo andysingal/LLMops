{
 "cells": [
  {
   "cell_type": "code",
   "execution_count": null,
   "id": "91114baf",
   "metadata": {},
   "outputs": [],
   "source": [
    "%pip install -U llama-index-core"
   ]
  },
  {
   "cell_type": "code",
   "execution_count": null,
   "id": "f25a2e61",
   "metadata": {},
   "outputs": [],
   "source": [
    "%pip install llama-index-embeddings-huggingface llama-agents"
   ]
  },
  {
   "cell_type": "code",
   "execution_count": null,
   "id": "211a1a9d",
   "metadata": {},
   "outputs": [],
   "source": [
    "import logging\n",
    "\n",
    "# Create a logger instance\n",
    "logger = logging.getLogger(__name__)\n",
    "\n",
    "# Set the log level to INFO for informational messages\n",
    "logger.setLevel(logging.INFO)"
   ]
  },
  {
   "cell_type": "code",
   "execution_count": null,
   "id": "e33e5676-8d15-4372-bc32-8d43dd617b80",
   "metadata": {},
   "outputs": [],
   "source": [
    "import nest_asyncio\n",
    "\n",
    "nest_asyncio.apply()\n",
    "\n",
    "#import os\n",
    "\n",
    "#os.environ[\"OPENAI_API_KEY\"] = \"sk-proj-...\""
   ]
  },
  {
   "cell_type": "code",
   "execution_count": 15,
   "id": "c4941563",
   "metadata": {},
   "outputs": [
    {
     "name": "stderr",
     "output_type": "stream",
     "text": [
      "INFO:llama_agents.message_queues.simple - Consumer AgentService-de9efec0-c3f8-44bd-90ce-6762078c7852: calculator_agent has been registered.\n",
      "INFO:llama_agents.message_queues.simple - Consumer AgentService-18c874f9-d0ad-4a68-ad89-39ec50792a6a: nlp_agent has been registered.\n",
      "INFO:llama_agents.message_queues.simple - Consumer 94309b7e-6ffb-457f-ab0e-0c277f01bc14: human has been registered.\n",
      "INFO:llama_agents.message_queues.simple - Consumer ControlPlaneServer-69c34eb2-5581-4df3-a286-e52008a35013: control_plane has been registered.\n",
      "INFO:llama_agents.services.agent - calculator_agent launch_local\n",
      "INFO:llama_agents.services.agent - nlp_agent launch_local\n",
      "INFO:llama_agents.message_queues.base - Publishing message to 'control_plane' with action 'new_task'\n",
      "INFO:llama_agents.message_queues.simple - Launching message queue locally\n",
      "INFO:llama_agents.message_queues.base - Publishing message to 'calculator_agent' with action 'new_task'\n",
      "INFO:llama_agents.message_queues.simple - Successfully published message 'control_plane' to consumer.\n",
      "INFO:llama_agents.services.agent - Created new task: d264da8e-b172-4dde-bc5f-e6400340c4e4\n",
      "INFO:llama_agents.message_queues.simple - Successfully published message 'calculator_agent' to consumer.\n"
     ]
    },
    {
     "name": "stdout",
     "output_type": "stream",
     "text": [
      "\u001b[1;3;38;5;200mThought: The current language of the user is: English. I need to use a tool to help me answer the question.\n",
      "Action: calculator\n",
      "Action Input: {'operation': 'divide', 'a': 100, 'b': 20}\n",
      "\u001b[0m\u001b[1;3;34mObservation: The result of 100 divide 20 is 5.0\n",
      "\u001b[0m"
     ]
    },
    {
     "name": "stderr",
     "output_type": "stream",
     "text": [
      "INFO:llama_agents.message_queues.base - Publishing message to 'control_plane' with action 'completed_task'\n"
     ]
    },
    {
     "name": "stdout",
     "output_type": "stream",
     "text": [
      "\u001b[1;3;38;5;200mThought: I can answer without using any more tools. I'll use the user's language to answer\n",
      "Answer: The result of dividing 100 by 20 is 5.0.\n",
      "\u001b[0m"
     ]
    },
    {
     "name": "stderr",
     "output_type": "stream",
     "text": [
      "INFO:llama_agents.message_queues.base - Publishing message to 'calculator_agent' with action 'new_task'\n",
      "INFO:llama_agents.message_queues.simple - Successfully published message 'control_plane' to consumer.\n",
      "INFO:llama_agents.services.agent - Created new task: d264da8e-b172-4dde-bc5f-e6400340c4e4\n",
      "INFO:llama_agents.message_queues.simple - Successfully published message 'calculator_agent' to consumer.\n"
     ]
    },
    {
     "name": "stdout",
     "output_type": "stream",
     "text": [
      "\u001b[1;3;38;5;200mThought: The current language of the user is: English. I need to use a tool to help me answer the question.\n",
      "Action: calculator\n",
      "Action Input: {'operation': 'divide', 'a': 100, 'b': 20}\n",
      "\u001b[0m\u001b[1;3;34mObservation: The result of 100 divide 20 is 5.0\n",
      "\u001b[0m"
     ]
    },
    {
     "name": "stderr",
     "output_type": "stream",
     "text": [
      "INFO:llama_agents.message_queues.base - Publishing message to 'control_plane' with action 'completed_task'\n"
     ]
    },
    {
     "name": "stdout",
     "output_type": "stream",
     "text": [
      "\u001b[1;3;38;5;200mThought: I can answer without using any more tools. I'll use the user's language to answer\n",
      "Answer: The result of dividing 100 by 20 is 5.0.\n",
      "\u001b[0m"
     ]
    },
    {
     "name": "stderr",
     "output_type": "stream",
     "text": [
      "INFO:llama_agents.message_queues.base - Publishing message to 'human' with action 'completed_task'\n",
      "INFO:llama_agents.message_queues.simple - Successfully published message 'control_plane' to consumer.\n",
      "INFO:llama_agents.message_queues.simple - Successfully published message 'human' to consumer.\n"
     ]
    },
    {
     "name": "stdout",
     "output_type": "stream",
     "text": [
      "Result: Dividing 100 by 20 results in 5.0.\n"
     ]
    }
   ],
   "source": [
    "from llama_agents import (\n",
    "    AgentService,\n",
    "    AgentOrchestrator,\n",
    "    ControlPlaneServer,\n",
    "    LocalLauncher,\n",
    "    SimpleMessageQueue,\n",
    ")\n",
    "\n",
    "from llama_index.core.agent import ReActAgent\n",
    "from llama_index.core.tools import FunctionTool\n",
    "from llama_index.llms.ollama import Ollama\n",
    "from llama_index.core import Settings\n",
    "from llama_index.embeddings.huggingface import HuggingFaceEmbedding\n",
    "from llama_index.core.agent import FunctionCallingAgentWorker\n",
    "\n",
    "\n",
    "# Calculator tool \n",
    "def calculator(operation: str, a: float, b: float) -> str:\n",
    "    \"\"\"\n",
    "    Perform basic arithmetic operations.\n",
    "    \n",
    "    Args:\n",
    "    operation (str): One of 'add', 'subtract', 'multiply', or 'divide'.\n",
    "    a (float): First number.\n",
    "    b (float): Second number.\n",
    "    \n",
    "    Returns:\n",
    "    str: Result of the operation as a string.\n",
    "    \"\"\"\n",
    "    try:\n",
    "        if operation == \"add\":\n",
    "            result = a + b\n",
    "        elif operation == \"subtract\":\n",
    "            result = a - b\n",
    "        elif operation == \"multiply\":\n",
    "            result = a * b\n",
    "        elif operation == \"divide\":\n",
    "            if b == 0:\n",
    "                return \"Error: Cannot divide by zero.\"\n",
    "            result = a / b\n",
    "        else:\n",
    "            return f\"Error: Invalid operation '{operation}'. Choose 'add', 'subtract', 'multiply', or 'divide'.\"\n",
    "        \n",
    "        return f\"The result of {a} {operation} {b} is {result}\"\n",
    "    except Exception as e:\n",
    "        return f\"Error in calculation: {str(e)}\"\n",
    "\n",
    "# New text analysis tool\n",
    "def text_analyzer(text: str) -> str:\n",
    "    \"\"\"\n",
    "    Perform basic text analysis.\n",
    "    \n",
    "    Args:\n",
    "    text (str): The text to analyze.\n",
    "    \n",
    "    Returns:\n",
    "    str: Analysis results as a string.\n",
    "    \"\"\"\n",
    "    try:\n",
    "        word_count = len(text.split())\n",
    "        char_count = len(text)\n",
    "        sentence_count = text.count('.') + text.count('!') + text.count('?')\n",
    "        \n",
    "        analysis = f\"Text Analysis Results:\\n\"\n",
    "        analysis += f\"- Word count: {word_count}\\n\"\n",
    "        analysis += f\"- Character count: {char_count}\\n\"\n",
    "        analysis += f\"- Approximate sentence count: {sentence_count}\\n\"\n",
    "        \n",
    "        return analysis\n",
    "    except Exception as e:\n",
    "        return f\"Error in text analysis: {str(e)}\"\n",
    "\n",
    "calculator_tool = FunctionTool.from_defaults(fn=calculator)\n",
    "text_tool = FunctionTool.from_defaults(fn=text_analyzer)\n",
    "\n",
    "\n",
    "llm = Ollama(model=\"arcee-ai/arcee-agent\", request_timeout=120.0)\n",
    "\n",
    "Settings.llm = llm\n",
    "\n",
    "\n",
    "\n",
    "agent1 = ReActAgent.from_tools(tools=[calculator_tool], llm=llm, verbose=True)\n",
    "agent2 = ReActAgent.from_tools([text_tool], llm=Ollama(model=\"mistral\", request_timeout=120.0), verbose=True)\n",
    "\n",
    "# worker2 = FunctionCallingAgentWorker.from_tools([text_tool], llm=llm)\n",
    "# agent2 = worker2.as_agent()\n",
    "\n",
    "\n",
    "Settings.embed_model = HuggingFaceEmbedding(\n",
    "    model_name=\"BAAI/bge-small-en-v1.5\"\n",
    ")\n",
    "\n",
    "# create our multi-agent framework components\n",
    "message_queue = SimpleMessageQueue(port=8000)\n",
    "control_plane = ControlPlaneServer(\n",
    "    message_queue=message_queue,\n",
    "    orchestrator=AgentOrchestrator(llm=llm),\n",
    "    port=8001,\n",
    "\n",
    ")\n",
    "agent_server_1 = AgentService(\n",
    "    agent=agent1,\n",
    "    message_queue=message_queue,\n",
    "    description=\"Useful for performing basic arithmetic operations like calculations.\",\n",
    "    service_name=\"calculator_agent\",\n",
    "    port=8002,\n",
    ")\n",
    "agent_server_2 = AgentService(\n",
    "    agent=agent2,\n",
    "    message_queue=message_queue,\n",
    "    description=\"Useful for performing NLP, Text Analysis and Text Processing.\",\n",
    "    service_name=\"nlp_agent\",\n",
    "    port=8003,\n",
    ")\n",
    "\n",
    "# launch it\n",
    "launcher = LocalLauncher([agent_server_1, agent_server_2], control_plane, message_queue)\n",
    "\n",
    "try:\n",
    "    result = launcher.launch_single(\"can you divide 100 by 20?\")\n",
    "\n",
    "\n",
    "    print(f\"Result: {result}\")\n",
    "except Exception as e:\n",
    "    print(f\"An error occurred: {str(e)}\")\n",
    "    print(\"Please check the agent logs for more details.\")"
   ]
  },
  {
   "cell_type": "code",
   "execution_count": null,
   "id": "d39827b4",
   "metadata": {},
   "outputs": [],
   "source": [
    "# from llama_agents import ServerLauncher, CallableMessageConsumer\n",
    "\n",
    "\n",
    "# # Additional human consumer\n",
    "# def handle_result(message) -> None:\n",
    "#     print(f\"Got result:\", message.data)\n",
    "\n",
    "\n",
    "# human_consumer = CallableMessageConsumer(\n",
    "#     handler=handle_result, message_type=\"human\"\n",
    "# )\n",
    "\n",
    "# # Define Launcher\n",
    "# launcher = ServerLauncher(\n",
    "#     [agent_server_1, agent_server_2],\n",
    "#     control_plane,\n",
    "#     message_queue,\n",
    "#     additional_consumers=[human_consumer],\n",
    "# )\n",
    "\n",
    "# # Launch it!\n",
    "# launcher.launch_servers()"
   ]
  },
  {
   "cell_type": "code",
   "execution_count": null,
   "id": "19970fe2",
   "metadata": {},
   "outputs": [],
   "source": [
    "# from llama_agents import LlamaAgentsClient, AsyncLlamaAgentsClient\n",
    "\n",
    "# client = LlamaAgentsClient(\"http://127.0.0.1:8001\")  # i.e. http://127.0.0.1:8001\n",
    "# task_id = client.create_task(\"can you divide 100 by 20?\")\n",
    "# # <Wait a few seconds>\n",
    "# # returns TaskResult or None if not finished\n",
    "# result = client.get_task_result(task_id)\n",
    "\n"
   ]
  }
 ],
 "metadata": {
  "kernelspec": {
   "display_name": "Python 3 (ipykernel)",
   "language": "python",
   "name": "python3"
  },
  "language_info": {
   "codemirror_mode": {
    "name": "ipython",
    "version": 3
   },
   "file_extension": ".py",
   "mimetype": "text/x-python",
   "name": "python",
   "nbconvert_exporter": "python",
   "pygments_lexer": "ipython3",
   "version": "3.9.6"
  }
 },
 "nbformat": 4,
 "nbformat_minor": 5
}
